{
 "cells": [
  {
   "cell_type": "code",
   "execution_count": null,
   "id": "d0fd7cb8",
   "metadata": {},
   "outputs": [],
   "source": [
    "# import pandas as pd\n",
    "# import plotly.express as px\n",
    "# import matplotlib.pyplot as plt"
   ]
  },
  {
   "cell_type": "code",
   "execution_count": null,
   "id": "e7c108cd",
   "metadata": {},
   "outputs": [
    {
     "name": "stdout",
     "output_type": "stream",
     "text": [
      "doodad not detected\n",
      "objc[2480]: Class GLFWApplicationDelegate is implemented in both /Users/shanliyu/.mujoco/mujoco200/bin/libglfw.3.dylib (0x1a1797d778) and /Users/shanliyu/anaconda3/lib/python3.6/site-packages/glfw/libglfw.3.dylib (0x1a179fe740). One of the two will be used. Which one is undefined.\n",
      "objc[2480]: Class GLFWWindowDelegate is implemented in both /Users/shanliyu/.mujoco/mujoco200/bin/libglfw.3.dylib (0x1a1797d700) and /Users/shanliyu/anaconda3/lib/python3.6/site-packages/glfw/libglfw.3.dylib (0x1a179fe768). One of the two will be used. Which one is undefined.\n",
      "objc[2480]: Class GLFWContentView is implemented in both /Users/shanliyu/.mujoco/mujoco200/bin/libglfw.3.dylib (0x1a1797d7a0) and /Users/shanliyu/anaconda3/lib/python3.6/site-packages/glfw/libglfw.3.dylib (0x1a179fe7b8). One of the two will be used. Which one is undefined.\n",
      "objc[2480]: Class GLFWWindow is implemented in both /Users/shanliyu/.mujoco/mujoco200/bin/libglfw.3.dylib (0x1a1797d818) and /Users/shanliyu/anaconda3/lib/python3.6/site-packages/glfw/libglfw.3.dylib (0x1a179fe830). One of the two will be used. Which one is undefined.\n",
      "using sparse reward if specified\n",
      "2021-05-25 19:13:32.748223 PDT | Variant:\n",
      "2021-05-25 19:13:32.750282 PDT | {\n",
      "  \"seed\": 10,\n",
      "  \"algorithm\": \"SAC\",\n",
      "  \"env_name\": \"pointreacherobs\",\n",
      "  \"algo_kwargs\": {\n",
      "    \"batch_size\": 256,\n",
      "    \"num_epochs\": 300,\n",
      "    \"num_eval_steps_per_epoch\": 1000,\n",
      "    \"num_expl_steps_per_train_loop\": 20,\n",
      "    \"num_trains_per_train_loop\": 100,\n",
      "    \"min_num_steps_before_training\": 1000,\n",
      "    \"max_path_length\": 20,\n",
      "    \"num_train_loops_per_epoch\": 5\n",
      "  },\n",
      "  \"trainer_kwargs\": {\n",
      "    \"discount\": 0.97,\n",
      "    \"soft_target_tau\": 0.005,\n",
      "    \"target_update_period\": 1,\n",
      "    \"policy_lr\": 0.003,\n",
      "    \"qf_lr\": 0.003,\n",
      "    \"reward_scale\": 1,\n",
      "    \"use_automatic_entropy_tuning\": true\n",
      "  },\n",
      "  \"replay_buffer_kwargs\": {\n",
      "    \"max_replay_buffer_size\": 2000,\n",
      "    \"latent_dim\": 6,\n",
      "    \"approx_irl\": false,\n",
      "    \"plot\": false\n",
      "  },\n",
      "  \"relabeler_kwargs\": {\n",
      "    \"relabel\": false,\n",
      "    \"use_adv\": false,\n",
      "    \"n_sampled_latents\": 5,\n",
      "    \"n_to_take\": 1,\n",
      "    \"cache\": false,\n",
      "    \"sparse_reward\": null,\n",
      "    \"fixed_ratio\": null\n",
      "  },\n",
      "  \"qf_kwargs\": {\n",
      "    \"hidden_sizes\": [\n",
      "      300,\n",
      "      300,\n",
      "      300\n",
      "    ],\n",
      "    \"latent_shape_multiplier\": 1,\n",
      "    \"latent_to_all_layers\": false\n",
      "  },\n",
      "  \"policy_kwargs\": {\n",
      "    \"hidden_sizes\": [\n",
      "      300,\n",
      "      300,\n",
      "      300\n",
      "    ],\n",
      "    \"latent_shape_multiplier\": 1,\n",
      "    \"latent_to_all_layers\": false\n",
      "  },\n",
      "  \"path_collector_kwargs\": {\n",
      "    \"save_videos\": false\n",
      "  },\n",
      "  \"use_advantages\": false,\n",
      "  \"proper_advantages\": true,\n",
      "  \"plot\": false,\n",
      "  \"test\": false,\n",
      "  \"gpu\": 0,\n",
      "  \"mode\": \"here_no_doodad\",\n",
      "  \"local_docker\": false,\n",
      "  \"insert_time\": false,\n",
      "  \"latent_shape_multiplier\": 1,\n",
      "  \"env_kwargs\": {\n",
      "    \"horizon\": 20\n",
      "  }\n",
      "}\n",
      "pointreacher\n",
      "\u001b[33mWARN: gym.spaces.Box autodetected dtype as <class 'numpy.float32'>. Please provide explicit dtype.\u001b[0m\n",
      "\u001b[33mWARN: gym.spaces.Box autodetected dtype as <class 'numpy.float32'>. Please provide explicit dtype.\u001b[0m\n",
      "\u001b[33mWARN: gym.spaces.Box autodetected dtype as <class 'numpy.float32'>. Please provide explicit dtype.\u001b[0m\n",
      "\u001b[33mWARN: gym.spaces.Box autodetected dtype as <class 'numpy.float32'>. Please provide explicit dtype.\u001b[0m\n",
      "\u001b[33mWARN: gym.spaces.Box autodetected dtype as <class 'numpy.float32'>. Please provide explicit dtype.\u001b[0m\n",
      "sparse reward: None\n",
      "\u001b[33mWARN: gym.spaces.Box autodetected dtype as <class 'numpy.float32'>. Please provide explicit dtype.\u001b[0m\n",
      "sparse reward: None\n"
     ]
    }
   ],
   "source": [
    "!python launch_gher.py --epochs 300 --env pointreacherobs\n",
    "!python launch_gher.py --epochs 300 --relabel --n_sampled_latents 1 --env pointreacherobs\n",
    "!python launch_gher.py --epochs 300 --relabel --n_sampled_latents 100 --use_advantages --env pointreacherobs\n",
    "!python launch_gher.py --epochs 300 --relabel --n_sampled_latents 100 --use_advantages --env pointreacherobs --cache --irl"
   ]
  },
  {
   "cell_type": "code",
   "execution_count": null,
   "id": "496b602e",
   "metadata": {},
   "outputs": [],
   "source": [
    "# df_no_r = pd.read_csv('/Users/shanliyu/School/CSE257/own/generalized-hindsight/data/gher-pointreacherobs-SAC-100e-20s-disc0.97-horizon20/gher-pointreacherobs-SAC-100e-20s-disc0.97-horizon20_2021_05_25_10_24_59_0000--s-10/progress.csv')\n",
    "# df_rr   = pd.read_csv('/Users/shanliyu/School/CSE257/own/generalized-hindsight/data/gher-pointreacherobs-SAC-100e-20s-disc0.97-horizon20/gher-pointreacherobs-SAC-100e-20s-disc0.97-horizon20_2021_05_25_11_48_41_0000--s-10/progress.csv')\n",
    "# df_air  = pd.read_csv('/Users/shanliyu/School/CSE257/own/generalized-hindsight/data/gher-pointreacherobs-SAC-100e-20s-disc0.97-horizon20/gher-pointreacherobs-SAC-100e-20s-disc0.97-horizon20_2021_05_25_13_12_33_0000--s-10/progress.csv')\n",
    "# df_ar   = pd.read_csv('/Users/shanliyu/School/CSE257/own/generalized-hindsight/data/gher-pointreacherobs-SAC-100e-20s-disc0.97-horizon20/gher-pointreacherobs-SAC-100e-20s-disc0.97-horizon20_2021_05_25_14_32_26_0000--s-10/progress.csv')"
   ]
  },
  {
   "cell_type": "code",
   "execution_count": null,
   "id": "9e09e740",
   "metadata": {},
   "outputs": [],
   "source": [
    "df_no_r.columns.tolist()"
   ]
  },
  {
   "cell_type": "code",
   "execution_count": null,
   "id": "30e0cb92",
   "metadata": {},
   "outputs": [],
   "source": [
    "# name = 'evaluation/Average Returns'\n",
    "# plt.plot(df_no_r['evaluation/num steps total'], df_no_r[name], label=\"No Relabeling\")\n",
    "# plt.plot(df_no_r['evaluation/num steps total'], df_rr[name], label=\"Random Relabeling\")\n",
    "# plt.plot(df_no_r['evaluation/num steps total'], df_air[name], label=\"AIR\")\n",
    "# plt.plot(df_no_r['evaluation/num steps total'], df_ar[name], label=\"AR\")\n",
    "# plt.legend()"
   ]
  },
  {
   "cell_type": "code",
   "execution_count": null,
   "id": "17df89c5",
   "metadata": {},
   "outputs": [],
   "source": []
  }
 ],
 "metadata": {
  "kernelspec": {
   "display_name": "Python 3",
   "language": "python",
   "name": "python3"
  },
  "language_info": {
   "codemirror_mode": {
    "name": "ipython",
    "version": 3
   },
   "file_extension": ".py",
   "mimetype": "text/x-python",
   "name": "python",
   "nbconvert_exporter": "python",
   "pygments_lexer": "ipython3",
   "version": "3.6.8"
  }
 },
 "nbformat": 4,
 "nbformat_minor": 5
}
